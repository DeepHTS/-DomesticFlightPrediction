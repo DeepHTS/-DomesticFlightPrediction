{
 "metadata": {
  "language_info": {
   "codemirror_mode": {
    "name": "ipython",
    "version": 3
   },
   "file_extension": ".py",
   "mimetype": "text/x-python",
   "name": "python",
   "nbconvert_exporter": "python",
   "pygments_lexer": "ipython3",
   "version": "3.7.6-final"
  },
  "orig_nbformat": 2,
  "kernelspec": {
   "name": "python3",
   "display_name": "Python 3",
   "language": "python"
  }
 },
 "nbformat": 4,
 "nbformat_minor": 2,
 "cells": [
  {
   "cell_type": "code",
   "execution_count": 1,
   "metadata": {},
   "outputs": [],
   "source": [
    "import numpy as np\n",
    "import pandas as pd\n",
    "import datetime"
   ]
  },
  {
   "cell_type": "code",
   "execution_count": 2,
   "metadata": {},
   "outputs": [],
   "source": [
    "data_path = \"../../data/OAG.csv\"\n",
    "data=pd.read_csv(data_path)"
   ]
  },
  {
   "cell_type": "code",
   "execution_count": 3,
   "metadata": {},
   "outputs": [
    {
     "output_type": "stream",
     "name": "stdout",
     "text": [
      "Index(['Carrier Code', 'Carrier Name', 'Flight No', 'ICAO AL',\n       'Dep Airport Code', 'Dep Airport Name', 'Arr Airport Code',\n       'Arr Airport Name', 'International/Domestic', 'Local Days Of Op',\n       'Local Days Of Op 1', 'Local Days Of Op 2', 'Local Days Of Op 3',\n       'Local Days Of Op 4', 'Local Days Of Op 5', 'Local Days Of Op 6',\n       'Local Days Of Op 7', 'Local Days Of Op Arr', 'Effective From',\n       'Effective To', 'Local Dep Time', 'Local Arr Time', 'Local Arr Day',\n       'Elapsed Time', 'Flying Time', 'Ground Time', 'General Aircraft Code',\n       'General Aircraft Name', 'Specific Aircraft Code',\n       'Specific Aircraft Name', 'Equipment Group', 'No of Stops',\n       'Stopping Airport', 'Month', 'Freight Class'],\n      dtype='object')\n"
     ]
    }
   ],
   "source": [
    "print(data.columns)"
   ]
  },
  {
   "cell_type": "code",
   "execution_count": 4,
   "metadata": {},
   "outputs": [],
   "source": [
    "data=data[data[\"International/Domestic\"]==\"Domestic\"]"
   ]
  },
  {
   "cell_type": "code",
   "execution_count": 5,
   "metadata": {},
   "outputs": [],
   "source": [
    "not_columns = set(\n",
    "    [\n",
    "        'International/Domestic',\n",
    "        'Local Days Of Op',\n",
    "        'Local Days Of Op 1',\n",
    "        'Local Days Of Op 2',\n",
    "        'Local Days Of Op 3',\n",
    "        'Local Days Of Op 4',\n",
    "        'Local Days Of Op 5',\n",
    "        'Local Days Of Op 6',\n",
    "        'Local Days Of Op 7',\n",
    "        'Local Days Of Op Arr',\n",
    "        'Local Arr Day',\n",
    "        'Elapsed Time',\n",
    "        'Ground Time',\n",
    "        'Month',\n",
    "        'No of Stops',\n",
    "        'Stopping Airport',\n",
    "        'Freight Class',\n",
    "        'Dep Airport Name',\n",
    "        'Arr Airport Name',\n",
    "        'Carrier Code',\n",
    "        'Carrier Name',\n",
    "        'General Aircraft Code',\n",
    "        'General Aircraft Name',\n",
    "        'Specific Aircraft Code',\n",
    "        'Specific Aircraft Name',\n",
    "        'Equipment Group',\n",
    "        'Flight No',\n",
    "        'ICAO AL',\n",
    "    ]\n",
    ")"
   ]
  },
  {
   "cell_type": "code",
   "execution_count": 6,
   "metadata": {},
   "outputs": [
    {
     "output_type": "stream",
     "name": "stdout",
     "text": [
      "79833 data\n7 columns\nDep Airport Code 79\nArr Airport Code 79\nEffective From 365\nEffective To 365\nLocal Dep Time 229\nLocal Arr Time 231\nFlying Time 48\n"
     ]
    },
    {
     "output_type": "execute_result",
     "data": {
      "text/plain": [
       "1206        1/4/2019\n",
       "1207      28/10/2019\n",
       "1208        1/1/2019\n",
       "1209      21/10/2019\n",
       "1210      28/10/2019\n",
       "             ...    \n",
       "186170      1/7/2019\n",
       "186171     13/7/2019\n",
       "186172      1/9/2019\n",
       "186173     1/10/2019\n",
       "186174    25/11/2019\n",
       "Name: Effective From, Length: 79833, dtype: object"
      ]
     },
     "metadata": {},
     "execution_count": 6
    }
   ],
   "source": [
    "print(len(data), \"data\")\n",
    "print(len(data.columns)-len(not_columns), \"columns\")\n",
    "for column in data.columns:\n",
    "    if column in not_columns:\n",
    "        continue\n",
    "    print(column, len(data[column].unique()))\n",
    "\n",
    "data[\"Effective From\"]"
   ]
  },
  {
   "cell_type": "code",
   "execution_count": 7,
   "metadata": {},
   "outputs": [
    {
     "output_type": "stream",
     "name": "stdout",
     "text": [
      "                 Dep Airport Name     Arr Airport Name\n1427   Nagasaki, Nagasaki Airport  Tokyo Intl (Haneda)\n1446   Nagasaki, Nagasaki Airport  Tokyo Intl (Haneda)\n1665   Nagasaki, Nagasaki Airport  Tokyo Intl (Haneda)\n1688   Nagasaki, Nagasaki Airport  Tokyo Intl (Haneda)\n1728   Nagasaki, Nagasaki Airport  Tokyo Intl (Haneda)\n41829  Nagasaki, Nagasaki Airport  Tokyo Intl (Haneda)\n          Dep Airport Name            Arr Airport Name\n1347   Tokyo Intl (Haneda)  Nagasaki, Nagasaki Airport\n1441   Tokyo Intl (Haneda)  Nagasaki, Nagasaki Airport\n1682   Tokyo Intl (Haneda)  Nagasaki, Nagasaki Airport\n31360  Tokyo Intl (Haneda)  Nagasaki, Nagasaki Airport\n"
     ]
    },
    {
     "output_type": "execute_result",
     "data": {
      "text/plain": [
       "'飛行時間がやけに長い。なにかしらのトラブルか？'"
      ]
     },
     "metadata": {},
     "execution_count": 7
    }
   ],
   "source": [
    "print(data[data[\"Flying Time\"]==\"11:09\"][[\"Dep Airport Name\",\"Arr Airport Name\"]])\n",
    "print(data[data[\"Flying Time\"]==\"8:59\"][[\"Dep Airport Name\",\"Arr Airport Name\"]])\n",
    "\"飛行時間がやけに長い。なにかしらのトラブルか？\""
   ]
  },
  {
   "cell_type": "code",
   "execution_count": 8,
   "metadata": {},
   "outputs": [],
   "source": [
    "\"空港の名前の集合が発着で一致\"\n",
    "for check in [\"Name\", \"Code\"]:\n",
    "    dep_code = set(data[\"Dep Airport \"+check].unique())\n",
    "    arr_code = data[\"Arr Airport \"+check].unique()\n",
    "    for code in arr_code:\n",
    "        if not code in dep_code:\n",
    "            print(check, code)"
   ]
  },
  {
   "cell_type": "code",
   "execution_count": 9,
   "metadata": {},
   "outputs": [
    {
     "output_type": "execute_result",
     "data": {
      "text/plain": [
       "       Dep Airport Code Arr Airport Code Effective To  Local Arr Time  \\\n",
       "1206                HND              KMJ    30/6/2019             900   \n",
       "1207                HND              KMJ   31/12/2019             910   \n",
       "1208                KMJ              HND    24/3/2019             915   \n",
       "1209                HND              KMJ   26/10/2019            1405   \n",
       "1210                KMJ              HND   31/12/2019            1120   \n",
       "...                 ...              ...          ...             ...   \n",
       "186170              TRA              MMY     7/7/2019            1655   \n",
       "186171              TRA              MMY    25/8/2019            1650   \n",
       "186172              TRA              MMY    29/9/2019            1655   \n",
       "186173              TRA              MMY   24/11/2019            1705   \n",
       "186174              TRA              MMY   31/12/2019            1705   \n",
       "\n",
       "       Effective From  Local Dep Time Flying Time  \n",
       "1206         1/4/2019             710        1:50  \n",
       "1207       28/10/2019             710        2:00  \n",
       "1208         1/1/2019             735        1:40  \n",
       "1209       21/10/2019            1215        1:50  \n",
       "1210       28/10/2019             945        1:35  \n",
       "...               ...             ...         ...  \n",
       "186170       1/7/2019            1630        0:25  \n",
       "186171      13/7/2019            1625        0:25  \n",
       "186172       1/9/2019            1630        0:25  \n",
       "186173      1/10/2019            1640        0:25  \n",
       "186174     25/11/2019            1640        0:25  \n",
       "\n",
       "[79833 rows x 7 columns]"
      ],
      "text/html": "<div>\n<style scoped>\n    .dataframe tbody tr th:only-of-type {\n        vertical-align: middle;\n    }\n\n    .dataframe tbody tr th {\n        vertical-align: top;\n    }\n\n    .dataframe thead th {\n        text-align: right;\n    }\n</style>\n<table border=\"1\" class=\"dataframe\">\n  <thead>\n    <tr style=\"text-align: right;\">\n      <th></th>\n      <th>Dep Airport Code</th>\n      <th>Arr Airport Code</th>\n      <th>Effective To</th>\n      <th>Local Arr Time</th>\n      <th>Effective From</th>\n      <th>Local Dep Time</th>\n      <th>Flying Time</th>\n    </tr>\n  </thead>\n  <tbody>\n    <tr>\n      <th>1206</th>\n      <td>HND</td>\n      <td>KMJ</td>\n      <td>30/6/2019</td>\n      <td>900</td>\n      <td>1/4/2019</td>\n      <td>710</td>\n      <td>1:50</td>\n    </tr>\n    <tr>\n      <th>1207</th>\n      <td>HND</td>\n      <td>KMJ</td>\n      <td>31/12/2019</td>\n      <td>910</td>\n      <td>28/10/2019</td>\n      <td>710</td>\n      <td>2:00</td>\n    </tr>\n    <tr>\n      <th>1208</th>\n      <td>KMJ</td>\n      <td>HND</td>\n      <td>24/3/2019</td>\n      <td>915</td>\n      <td>1/1/2019</td>\n      <td>735</td>\n      <td>1:40</td>\n    </tr>\n    <tr>\n      <th>1209</th>\n      <td>HND</td>\n      <td>KMJ</td>\n      <td>26/10/2019</td>\n      <td>1405</td>\n      <td>21/10/2019</td>\n      <td>1215</td>\n      <td>1:50</td>\n    </tr>\n    <tr>\n      <th>1210</th>\n      <td>KMJ</td>\n      <td>HND</td>\n      <td>31/12/2019</td>\n      <td>1120</td>\n      <td>28/10/2019</td>\n      <td>945</td>\n      <td>1:35</td>\n    </tr>\n    <tr>\n      <th>...</th>\n      <td>...</td>\n      <td>...</td>\n      <td>...</td>\n      <td>...</td>\n      <td>...</td>\n      <td>...</td>\n      <td>...</td>\n    </tr>\n    <tr>\n      <th>186170</th>\n      <td>TRA</td>\n      <td>MMY</td>\n      <td>7/7/2019</td>\n      <td>1655</td>\n      <td>1/7/2019</td>\n      <td>1630</td>\n      <td>0:25</td>\n    </tr>\n    <tr>\n      <th>186171</th>\n      <td>TRA</td>\n      <td>MMY</td>\n      <td>25/8/2019</td>\n      <td>1650</td>\n      <td>13/7/2019</td>\n      <td>1625</td>\n      <td>0:25</td>\n    </tr>\n    <tr>\n      <th>186172</th>\n      <td>TRA</td>\n      <td>MMY</td>\n      <td>29/9/2019</td>\n      <td>1655</td>\n      <td>1/9/2019</td>\n      <td>1630</td>\n      <td>0:25</td>\n    </tr>\n    <tr>\n      <th>186173</th>\n      <td>TRA</td>\n      <td>MMY</td>\n      <td>24/11/2019</td>\n      <td>1705</td>\n      <td>1/10/2019</td>\n      <td>1640</td>\n      <td>0:25</td>\n    </tr>\n    <tr>\n      <th>186174</th>\n      <td>TRA</td>\n      <td>MMY</td>\n      <td>31/12/2019</td>\n      <td>1705</td>\n      <td>25/11/2019</td>\n      <td>1640</td>\n      <td>0:25</td>\n    </tr>\n  </tbody>\n</table>\n<p>79833 rows × 7 columns</p>\n</div>"
     },
     "metadata": {},
     "execution_count": 9
    }
   ],
   "source": [
    "columns = set(\n",
    "    [\n",
    "        \"Dep Airport Code\",\n",
    "        \"Arr Airport Code\",\n",
    "        \"Effective From\",\n",
    "        \"Effective To\",\n",
    "        \"Local Dep Time\",\n",
    "        \"Local Arr Time\",\n",
    "        \"Flying Time\",\n",
    "    ]\n",
    ")\n",
    "timetable = pd.DataFrame({column:data[column] for column in columns})\n",
    "timetable"
   ]
  },
  {
   "cell_type": "code",
   "execution_count": 10,
   "metadata": {},
   "outputs": [],
   "source": [
    "a2p_path = \"../../data/airports.csv\"\n",
    "a2p = pd.read_csv(a2p_path)\n",
    "a2p = a2p[a2p[\"iso_country\"]==\"JP\"]\n",
    "a2p = a2p[a2p[\"type\"] != \"heliport\"]\n",
    "a2p = a2p[a2p[\"type\"] != \"closed\"]\n",
    "a2p = a2p.dropna(subset = [\"iata_code\", \"latitude_deg\", \"longitude_deg\"])"
   ]
  },
  {
   "cell_type": "code",
   "execution_count": 11,
   "metadata": {},
   "outputs": [
    {
     "output_type": "stream",
     "name": "stdout",
     "text": [
      "Index(['id', 'ident', 'type', 'name', 'latitude_deg', 'longitude_deg',\n       'elevation_ft', 'continent', 'iso_country', 'iso_region',\n       'municipality', 'scheduled_service', 'gps_code', 'iata_code',\n       'local_code', 'home_link', 'wikipedia_link', 'keywords'],\n      dtype='object')\n"
     ]
    }
   ],
   "source": [
    "print(a2p.columns)"
   ]
  },
  {
   "cell_type": "code",
   "execution_count": 12,
   "metadata": {
    "tags": []
   },
   "outputs": [
    {
     "output_type": "stream",
     "name": "stdout",
     "text": [
      "96\nKCZ 2\n95\n0\n"
     ]
    }
   ],
   "source": [
    "print(len(a2p))\n",
    "for code in a2p[\"iata_code\"].unique().tolist():\n",
    "    if type(code) != str:\n",
    "        print(code)\n",
    "        continue\n",
    "    if a2p[\"iata_code\"].value_counts(dropna=False)[code]>1:\n",
    "        print(code, a2p[\"iata_code\"].value_counts(dropna=False)[code])\n",
    "a2p_list = set([name for name in a2p[\"iata_code\"]])\n",
    "print(len(a2p_list))\n",
    "print(a2p[\"iata_code\"].isnull().sum())"
   ]
  },
  {
   "cell_type": "code",
   "execution_count": 13,
   "metadata": {},
   "outputs": [
    {
     "output_type": "stream",
     "name": "stdout",
     "text": [
      "                       name  latitude_deg  longitude_deg\n28004  Kochi Airport (高知空港)     33.546259     133.668938\n41367   Kochi Ryoma Airport     33.546101     133.669006\n"
     ]
    }
   ],
   "source": [
    "print(a2p[a2p[\"iata_code\"]==\"KCZ\"][[\"name\", \"latitude_deg\", \"longitude_deg\"]])"
   ]
  },
  {
   "cell_type": "code",
   "execution_count": 14,
   "metadata": {},
   "outputs": [
    {
     "output_type": "stream",
     "name": "stdout",
     "text": [
      "0\n"
     ]
    }
   ],
   "source": [
    "not_list = [name for name in data[\"Arr Airport Code\"].unique() if name not in a2p_list]\n",
    "print(len(not_list))"
   ]
  },
  {
   "cell_type": "code",
   "execution_count": 15,
   "metadata": {},
   "outputs": [
    {
     "output_type": "execute_result",
     "data": {
      "text/plain": [
       "array(['Kochi (JP)'], dtype=object)"
      ]
     },
     "metadata": {},
     "execution_count": 15
    }
   ],
   "source": [
    "data[data[\"Dep Airport Code\"]==\"KCZ\"][\"Dep Airport Name\"].unique()"
   ]
  },
  {
   "cell_type": "code",
   "execution_count": 16,
   "metadata": {},
   "outputs": [
    {
     "output_type": "execute_result",
     "data": {
      "text/plain": [
       "       latitude_deg  longitude_deg\n",
       "41289     35.764702     140.386002"
      ],
      "text/html": "<div>\n<style scoped>\n    .dataframe tbody tr th:only-of-type {\n        vertical-align: middle;\n    }\n\n    .dataframe tbody tr th {\n        vertical-align: top;\n    }\n\n    .dataframe thead th {\n        text-align: right;\n    }\n</style>\n<table border=\"1\" class=\"dataframe\">\n  <thead>\n    <tr style=\"text-align: right;\">\n      <th></th>\n      <th>latitude_deg</th>\n      <th>longitude_deg</th>\n    </tr>\n  </thead>\n  <tbody>\n    <tr>\n      <th>41289</th>\n      <td>35.764702</td>\n      <td>140.386002</td>\n    </tr>\n  </tbody>\n</table>\n</div>"
     },
     "metadata": {},
     "execution_count": 16
    }
   ],
   "source": [
    "a2p[a2p[\"iata_code\"]==\"NRT\"][[\"latitude_deg\", \"longitude_deg\"]]"
   ]
  },
  {
   "cell_type": "code",
   "execution_count": 17,
   "metadata": {},
   "outputs": [
    {
     "output_type": "execute_result",
     "data": {
      "text/plain": [
       "       Effective From Effective To\n",
       "29801       31/3/2019    28/4/2019\n",
       "30948       26/8/2019     1/9/2019\n",
       "30949        9/9/2019   20/10/2019\n",
       "30995       29/4/2019    18/8/2019\n",
       "33620       31/3/2019    28/4/2019\n",
       "33621       29/4/2019    18/8/2019\n",
       "33622       29/4/2019    18/8/2019\n",
       "33623       19/8/2019    25/8/2019\n",
       "33624        2/9/2019     8/9/2019\n",
       "34432      21/10/2019   26/10/2019\n",
       "37651       26/8/2019     1/9/2019\n",
       "83413       31/3/2019    31/3/2019\n",
       "125113       9/9/2019   20/10/2019\n",
       "170497      29/4/2019    18/8/2019\n",
       "170498      29/4/2019    18/8/2019"
      ],
      "text/html": "<div>\n<style scoped>\n    .dataframe tbody tr th:only-of-type {\n        vertical-align: middle;\n    }\n\n    .dataframe tbody tr th {\n        vertical-align: top;\n    }\n\n    .dataframe thead th {\n        text-align: right;\n    }\n</style>\n<table border=\"1\" class=\"dataframe\">\n  <thead>\n    <tr style=\"text-align: right;\">\n      <th></th>\n      <th>Effective From</th>\n      <th>Effective To</th>\n    </tr>\n  </thead>\n  <tbody>\n    <tr>\n      <th>29801</th>\n      <td>31/3/2019</td>\n      <td>28/4/2019</td>\n    </tr>\n    <tr>\n      <th>30948</th>\n      <td>26/8/2019</td>\n      <td>1/9/2019</td>\n    </tr>\n    <tr>\n      <th>30949</th>\n      <td>9/9/2019</td>\n      <td>20/10/2019</td>\n    </tr>\n    <tr>\n      <th>30995</th>\n      <td>29/4/2019</td>\n      <td>18/8/2019</td>\n    </tr>\n    <tr>\n      <th>33620</th>\n      <td>31/3/2019</td>\n      <td>28/4/2019</td>\n    </tr>\n    <tr>\n      <th>33621</th>\n      <td>29/4/2019</td>\n      <td>18/8/2019</td>\n    </tr>\n    <tr>\n      <th>33622</th>\n      <td>29/4/2019</td>\n      <td>18/8/2019</td>\n    </tr>\n    <tr>\n      <th>33623</th>\n      <td>19/8/2019</td>\n      <td>25/8/2019</td>\n    </tr>\n    <tr>\n      <th>33624</th>\n      <td>2/9/2019</td>\n      <td>8/9/2019</td>\n    </tr>\n    <tr>\n      <th>34432</th>\n      <td>21/10/2019</td>\n      <td>26/10/2019</td>\n    </tr>\n    <tr>\n      <th>37651</th>\n      <td>26/8/2019</td>\n      <td>1/9/2019</td>\n    </tr>\n    <tr>\n      <th>83413</th>\n      <td>31/3/2019</td>\n      <td>31/3/2019</td>\n    </tr>\n    <tr>\n      <th>125113</th>\n      <td>9/9/2019</td>\n      <td>20/10/2019</td>\n    </tr>\n    <tr>\n      <th>170497</th>\n      <td>29/4/2019</td>\n      <td>18/8/2019</td>\n    </tr>\n    <tr>\n      <th>170498</th>\n      <td>29/4/2019</td>\n      <td>18/8/2019</td>\n    </tr>\n  </tbody>\n</table>\n</div>"
     },
     "metadata": {},
     "execution_count": 17
    }
   ],
   "source": [
    "data = data[data[\"Dep Airport Code\"]==\"NRT\"]\n",
    "data[data[\"Local Dep Time\"]==1200][[\"Effective From\",\"Effective To\",]]"
   ]
  },
  {
   "cell_type": "code",
   "execution_count": null,
   "metadata": {},
   "outputs": [],
   "source": []
  }
 ]
}