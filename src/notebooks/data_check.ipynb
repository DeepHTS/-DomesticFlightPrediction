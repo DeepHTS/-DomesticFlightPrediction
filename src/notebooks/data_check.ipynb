{
 "metadata": {
  "language_info": {
   "codemirror_mode": {
    "name": "ipython",
    "version": 3
   },
   "file_extension": ".py",
   "mimetype": "text/x-python",
   "name": "python",
   "nbconvert_exporter": "python",
   "pygments_lexer": "ipython3",
   "version": "3.7.7-final"
  },
  "orig_nbformat": 2,
  "kernelspec": {
   "name": "python3",
   "display_name": "Python 3"
  }
 },
 "nbformat": 4,
 "nbformat_minor": 2,
 "cells": [
  {
   "cell_type": "code",
   "execution_count": 109,
   "metadata": {},
   "outputs": [],
   "source": [
    "import pandas as pd\n",
    "import datetime"
   ]
  },
  {
   "cell_type": "code",
   "execution_count": 2,
   "metadata": {},
   "outputs": [],
   "source": [
    "data_path = \"../../data/OAG.csv\"\n",
    "data=pd.read_csv(data_path)"
   ]
  },
  {
   "cell_type": "code",
   "execution_count": 3,
   "metadata": {},
   "outputs": [
    {
     "output_type": "stream",
     "name": "stdout",
     "text": [
      "Index(['Carrier Code', 'Carrier Name', 'Flight No', 'ICAO AL',\n       'Dep Airport Code', 'Dep Airport Name', 'Arr Airport Code',\n       'Arr Airport Name', 'International/Domestic', 'Local Days Of Op',\n       'Local Days Of Op 1', 'Local Days Of Op 2', 'Local Days Of Op 3',\n       'Local Days Of Op 4', 'Local Days Of Op 5', 'Local Days Of Op 6',\n       'Local Days Of Op 7', 'Local Days Of Op Arr', 'Effective From',\n       'Effective To', 'Local Dep Time', 'Local Arr Time', 'Local Arr Day',\n       'Elapsed Time', 'Flying Time', 'Ground Time', 'General Aircraft Code',\n       'General Aircraft Name', 'Specific Aircraft Code',\n       'Specific Aircraft Name', 'Equipment Group', 'No of Stops',\n       'Stopping Airport', 'Month', 'Freight Class'],\n      dtype='object')\n"
     ]
    }
   ],
   "source": [
    "print(data.columns)"
   ]
  },
  {
   "cell_type": "code",
   "execution_count": 6,
   "metadata": {},
   "outputs": [],
   "source": [
    "data=data[data[\"International/Domestic\"]==\"Domestic\"]"
   ]
  },
  {
   "cell_type": "code",
   "execution_count": 61,
   "metadata": {},
   "outputs": [],
   "source": [
    "not_columns = set(\n",
    "    [\n",
    "        'International/Domestic',\n",
    "        'Local Days Of Op',\n",
    "        'Local Days Of Op 1',\n",
    "        'Local Days Of Op 2',\n",
    "        'Local Days Of Op 3',\n",
    "        'Local Days Of Op 4',\n",
    "        'Local Days Of Op 5',\n",
    "        'Local Days Of Op 6',\n",
    "        'Local Days Of Op 7',\n",
    "        'Local Days Of Op Arr',\n",
    "        'Local Arr Day',\n",
    "        'Elapsed Time',\n",
    "        'Ground Time',\n",
    "        'Month',\n",
    "        'No of Stops',\n",
    "        'Stopping Airport',\n",
    "        'Freight Class',\n",
    "        'Dep Airport Name',\n",
    "        'Arr Airport Name',\n",
    "        'Carrier Code',\n",
    "        'Carrier Name',\n",
    "        'General Aircraft Code',\n",
    "        'General Aircraft Name',\n",
    "        'Specific Aircraft Code',\n",
    "        'Specific Aircraft Name',\n",
    "        'Equipment Group',\n",
    "        'Flight No',\n",
    "        'ICAO AL',\n",
    "    ]\n",
    ")"
   ]
  },
  {
   "cell_type": "code",
   "execution_count": 119,
   "metadata": {},
   "outputs": [
    {
     "output_type": "stream",
     "name": "stdout",
     "text": [
      "79833 data\n7 columns\nDep Airport Code 79\nArr Airport Code 79\nEffective From 365\nEffective To 365\nLocal Dep Time 229\nLocal Arr Time 231\nFlying Time 48\n"
     ]
    },
    {
     "output_type": "error",
     "ename": "KeyError",
     "evalue": "'Dep Arr Time'",
     "traceback": [
      "\u001b[0;31m---------------------------------------------------------------------------\u001b[0m",
      "\u001b[0;31mKeyError\u001b[0m                                  Traceback (most recent call last)",
      "\u001b[0;32m~/anaconda3/lib/python3.7/site-packages/pandas/core/indexes/base.py\u001b[0m in \u001b[0;36mget_loc\u001b[0;34m(self, key, method, tolerance)\u001b[0m\n\u001b[1;32m   2888\u001b[0m             \u001b[0;32mtry\u001b[0m\u001b[0;34m:\u001b[0m\u001b[0;34m\u001b[0m\u001b[0;34m\u001b[0m\u001b[0m\n\u001b[0;32m-> 2889\u001b[0;31m                 \u001b[0;32mreturn\u001b[0m \u001b[0mself\u001b[0m\u001b[0;34m.\u001b[0m\u001b[0m_engine\u001b[0m\u001b[0;34m.\u001b[0m\u001b[0mget_loc\u001b[0m\u001b[0;34m(\u001b[0m\u001b[0mcasted_key\u001b[0m\u001b[0;34m)\u001b[0m\u001b[0;34m\u001b[0m\u001b[0;34m\u001b[0m\u001b[0m\n\u001b[0m\u001b[1;32m   2890\u001b[0m             \u001b[0;32mexcept\u001b[0m \u001b[0mKeyError\u001b[0m \u001b[0;32mas\u001b[0m \u001b[0merr\u001b[0m\u001b[0;34m:\u001b[0m\u001b[0;34m\u001b[0m\u001b[0;34m\u001b[0m\u001b[0m\n",
      "\u001b[0;32mpandas/_libs/index.pyx\u001b[0m in \u001b[0;36mpandas._libs.index.IndexEngine.get_loc\u001b[0;34m()\u001b[0m\n",
      "\u001b[0;32mpandas/_libs/index.pyx\u001b[0m in \u001b[0;36mpandas._libs.index.IndexEngine.get_loc\u001b[0;34m()\u001b[0m\n",
      "\u001b[0;32mpandas/_libs/hashtable_class_helper.pxi\u001b[0m in \u001b[0;36mpandas._libs.hashtable.PyObjectHashTable.get_item\u001b[0;34m()\u001b[0m\n",
      "\u001b[0;32mpandas/_libs/hashtable_class_helper.pxi\u001b[0m in \u001b[0;36mpandas._libs.hashtable.PyObjectHashTable.get_item\u001b[0;34m()\u001b[0m\n",
      "\u001b[0;31mKeyError\u001b[0m: 'Dep Arr Time'",
      "\nThe above exception was the direct cause of the following exception:\n",
      "\u001b[0;31mKeyError\u001b[0m                                  Traceback (most recent call last)",
      "\u001b[0;32m<ipython-input-119-a55d75fde5bb>\u001b[0m in \u001b[0;36m<module>\u001b[0;34m\u001b[0m\n\u001b[1;32m      6\u001b[0m     \u001b[0mprint\u001b[0m\u001b[0;34m(\u001b[0m\u001b[0mcolumn\u001b[0m\u001b[0;34m,\u001b[0m \u001b[0mlen\u001b[0m\u001b[0;34m(\u001b[0m\u001b[0mdata\u001b[0m\u001b[0;34m[\u001b[0m\u001b[0mcolumn\u001b[0m\u001b[0;34m]\u001b[0m\u001b[0;34m.\u001b[0m\u001b[0munique\u001b[0m\u001b[0;34m(\u001b[0m\u001b[0;34m)\u001b[0m\u001b[0;34m)\u001b[0m\u001b[0;34m)\u001b[0m\u001b[0;34m\u001b[0m\u001b[0;34m\u001b[0m\u001b[0m\n\u001b[1;32m      7\u001b[0m \u001b[0;34m\u001b[0m\u001b[0m\n\u001b[0;32m----> 8\u001b[0;31m \u001b[0mdata\u001b[0m\u001b[0;34m[\u001b[0m\u001b[0;34m\"Dep Arr Time\"\u001b[0m\u001b[0;34m]\u001b[0m\u001b[0;34m.\u001b[0m\u001b[0munique\u001b[0m\u001b[0;34m(\u001b[0m\u001b[0;34m)\u001b[0m\u001b[0;34m\u001b[0m\u001b[0;34m\u001b[0m\u001b[0m\n\u001b[0m",
      "\u001b[0;32m~/anaconda3/lib/python3.7/site-packages/pandas/core/frame.py\u001b[0m in \u001b[0;36m__getitem__\u001b[0;34m(self, key)\u001b[0m\n\u001b[1;32m   2900\u001b[0m             \u001b[0;32mif\u001b[0m \u001b[0mself\u001b[0m\u001b[0;34m.\u001b[0m\u001b[0mcolumns\u001b[0m\u001b[0;34m.\u001b[0m\u001b[0mnlevels\u001b[0m \u001b[0;34m>\u001b[0m \u001b[0;36m1\u001b[0m\u001b[0;34m:\u001b[0m\u001b[0;34m\u001b[0m\u001b[0;34m\u001b[0m\u001b[0m\n\u001b[1;32m   2901\u001b[0m                 \u001b[0;32mreturn\u001b[0m \u001b[0mself\u001b[0m\u001b[0;34m.\u001b[0m\u001b[0m_getitem_multilevel\u001b[0m\u001b[0;34m(\u001b[0m\u001b[0mkey\u001b[0m\u001b[0;34m)\u001b[0m\u001b[0;34m\u001b[0m\u001b[0;34m\u001b[0m\u001b[0m\n\u001b[0;32m-> 2902\u001b[0;31m             \u001b[0mindexer\u001b[0m \u001b[0;34m=\u001b[0m \u001b[0mself\u001b[0m\u001b[0;34m.\u001b[0m\u001b[0mcolumns\u001b[0m\u001b[0;34m.\u001b[0m\u001b[0mget_loc\u001b[0m\u001b[0;34m(\u001b[0m\u001b[0mkey\u001b[0m\u001b[0;34m)\u001b[0m\u001b[0;34m\u001b[0m\u001b[0;34m\u001b[0m\u001b[0m\n\u001b[0m\u001b[1;32m   2903\u001b[0m             \u001b[0;32mif\u001b[0m \u001b[0mis_integer\u001b[0m\u001b[0;34m(\u001b[0m\u001b[0mindexer\u001b[0m\u001b[0;34m)\u001b[0m\u001b[0;34m:\u001b[0m\u001b[0;34m\u001b[0m\u001b[0;34m\u001b[0m\u001b[0m\n\u001b[1;32m   2904\u001b[0m                 \u001b[0mindexer\u001b[0m \u001b[0;34m=\u001b[0m \u001b[0;34m[\u001b[0m\u001b[0mindexer\u001b[0m\u001b[0;34m]\u001b[0m\u001b[0;34m\u001b[0m\u001b[0;34m\u001b[0m\u001b[0m\n",
      "\u001b[0;32m~/anaconda3/lib/python3.7/site-packages/pandas/core/indexes/base.py\u001b[0m in \u001b[0;36mget_loc\u001b[0;34m(self, key, method, tolerance)\u001b[0m\n\u001b[1;32m   2889\u001b[0m                 \u001b[0;32mreturn\u001b[0m \u001b[0mself\u001b[0m\u001b[0;34m.\u001b[0m\u001b[0m_engine\u001b[0m\u001b[0;34m.\u001b[0m\u001b[0mget_loc\u001b[0m\u001b[0;34m(\u001b[0m\u001b[0mcasted_key\u001b[0m\u001b[0;34m)\u001b[0m\u001b[0;34m\u001b[0m\u001b[0;34m\u001b[0m\u001b[0m\n\u001b[1;32m   2890\u001b[0m             \u001b[0;32mexcept\u001b[0m \u001b[0mKeyError\u001b[0m \u001b[0;32mas\u001b[0m \u001b[0merr\u001b[0m\u001b[0;34m:\u001b[0m\u001b[0;34m\u001b[0m\u001b[0;34m\u001b[0m\u001b[0m\n\u001b[0;32m-> 2891\u001b[0;31m                 \u001b[0;32mraise\u001b[0m \u001b[0mKeyError\u001b[0m\u001b[0;34m(\u001b[0m\u001b[0mkey\u001b[0m\u001b[0;34m)\u001b[0m \u001b[0;32mfrom\u001b[0m \u001b[0merr\u001b[0m\u001b[0;34m\u001b[0m\u001b[0;34m\u001b[0m\u001b[0m\n\u001b[0m\u001b[1;32m   2892\u001b[0m \u001b[0;34m\u001b[0m\u001b[0m\n\u001b[1;32m   2893\u001b[0m         \u001b[0;32mif\u001b[0m \u001b[0mtolerance\u001b[0m \u001b[0;32mis\u001b[0m \u001b[0;32mnot\u001b[0m \u001b[0;32mNone\u001b[0m\u001b[0;34m:\u001b[0m\u001b[0;34m\u001b[0m\u001b[0;34m\u001b[0m\u001b[0m\n",
      "\u001b[0;31mKeyError\u001b[0m: 'Dep Arr Time'"
     ]
    }
   ],
   "source": [
    "print(len(data), \"data\")\n",
    "print(len(data.columns)-len(not_columns), \"columns\")\n",
    "for column in data.columns:\n",
    "    if column in not_columns:\n",
    "        continue\n",
    "    print(column, len(data[column].unique()))\n",
    "\n",
    "data[\"Local Dep Time\"].unique()"
   ]
  },
  {
   "cell_type": "code",
   "execution_count": 34,
   "metadata": {},
   "outputs": [
    {
     "output_type": "stream",
     "name": "stdout",
     "text": [
      "                 Dep Airport Name     Arr Airport Name\n1427   Nagasaki, Nagasaki Airport  Tokyo Intl (Haneda)\n1446   Nagasaki, Nagasaki Airport  Tokyo Intl (Haneda)\n1665   Nagasaki, Nagasaki Airport  Tokyo Intl (Haneda)\n1688   Nagasaki, Nagasaki Airport  Tokyo Intl (Haneda)\n1728   Nagasaki, Nagasaki Airport  Tokyo Intl (Haneda)\n41829  Nagasaki, Nagasaki Airport  Tokyo Intl (Haneda)\n          Dep Airport Name            Arr Airport Name\n1347   Tokyo Intl (Haneda)  Nagasaki, Nagasaki Airport\n1441   Tokyo Intl (Haneda)  Nagasaki, Nagasaki Airport\n1682   Tokyo Intl (Haneda)  Nagasaki, Nagasaki Airport\n31360  Tokyo Intl (Haneda)  Nagasaki, Nagasaki Airport\n"
     ]
    },
    {
     "output_type": "execute_result",
     "data": {
      "text/plain": [
       "'飛行時間がやけに長い。なにかしらのトラブルか？'"
      ]
     },
     "metadata": {},
     "execution_count": 34
    }
   ],
   "source": [
    "print(data[data[\"Flying Time\"]==\"11:09\"][[\"Dep Airport Name\",\"Arr Airport Name\"]])\n",
    "print(data[data[\"Flying Time\"]==\"8:59\"][[\"Dep Airport Name\",\"Arr Airport Name\"]])\n",
    "\"飛行時間がやけに長い。なにかしらのトラブルか？\""
   ]
  },
  {
   "cell_type": "code",
   "execution_count": 40,
   "metadata": {},
   "outputs": [],
   "source": [
    "\"空港の名前が発着で一致\"\n",
    "for check in [\"Name\", \"Code\"]:\n",
    "    dep_code = set(data[\"Dep Airport \"+check].unique())\n",
    "    arr_code = data[\"Arr Airport \"+check].unique()\n",
    "    for code in arr_code:\n",
    "        if not code in dep_code:\n",
    "            print(check, code)"
   ]
  },
  {
   "cell_type": "code",
   "execution_count": 72,
   "metadata": {},
   "outputs": [],
   "source": [
    "columns = set(\n",
    "    [\n",
    "        \"Dep Airport Code\",\n",
    "        \"Arr Airport Code\",\n",
    "        \"Effective From\",\n",
    "        \"Effective To\",\n",
    "        \"Local Dep Time\",\n",
    "        \"Local Arr Time\",\n",
    "        \"Flying Time\",\n",
    "    ]\n",
    ")\n",
    "timetable = pd.DataFrame({column:data[column] for column in columns})"
   ]
  },
  {
   "cell_type": "code",
   "execution_count": 73,
   "metadata": {},
   "outputs": [
    {
     "output_type": "execute_result",
     "data": {
      "text/plain": [
       "       Effective From Effective To  Local Arr Time  Local Dep Time  \\\n",
       "1206         1/4/2019    30/6/2019             900             710   \n",
       "1207       28/10/2019   31/12/2019             910             710   \n",
       "1208         1/1/2019    24/3/2019             915             735   \n",
       "1209       21/10/2019   26/10/2019            1405            1215   \n",
       "1210       28/10/2019   31/12/2019            1120             945   \n",
       "...               ...          ...             ...             ...   \n",
       "186170       1/7/2019     7/7/2019            1655            1630   \n",
       "186171      13/7/2019    25/8/2019            1650            1625   \n",
       "186172       1/9/2019    29/9/2019            1655            1630   \n",
       "186173      1/10/2019   24/11/2019            1705            1640   \n",
       "186174     25/11/2019   31/12/2019            1705            1640   \n",
       "\n",
       "       Dep Airport Code Flying Time Arr Airport Code  \n",
       "1206                HND        1:50              KMJ  \n",
       "1207                HND        2:00              KMJ  \n",
       "1208                KMJ        1:40              HND  \n",
       "1209                HND        1:50              KMJ  \n",
       "1210                KMJ        1:35              HND  \n",
       "...                 ...         ...              ...  \n",
       "186170              TRA        0:25              MMY  \n",
       "186171              TRA        0:25              MMY  \n",
       "186172              TRA        0:25              MMY  \n",
       "186173              TRA        0:25              MMY  \n",
       "186174              TRA        0:25              MMY  \n",
       "\n",
       "[79833 rows x 7 columns]"
      ],
      "text/html": "<div>\n<style scoped>\n    .dataframe tbody tr th:only-of-type {\n        vertical-align: middle;\n    }\n\n    .dataframe tbody tr th {\n        vertical-align: top;\n    }\n\n    .dataframe thead th {\n        text-align: right;\n    }\n</style>\n<table border=\"1\" class=\"dataframe\">\n  <thead>\n    <tr style=\"text-align: right;\">\n      <th></th>\n      <th>Effective From</th>\n      <th>Effective To</th>\n      <th>Local Arr Time</th>\n      <th>Local Dep Time</th>\n      <th>Dep Airport Code</th>\n      <th>Flying Time</th>\n      <th>Arr Airport Code</th>\n    </tr>\n  </thead>\n  <tbody>\n    <tr>\n      <th>1206</th>\n      <td>1/4/2019</td>\n      <td>30/6/2019</td>\n      <td>900</td>\n      <td>710</td>\n      <td>HND</td>\n      <td>1:50</td>\n      <td>KMJ</td>\n    </tr>\n    <tr>\n      <th>1207</th>\n      <td>28/10/2019</td>\n      <td>31/12/2019</td>\n      <td>910</td>\n      <td>710</td>\n      <td>HND</td>\n      <td>2:00</td>\n      <td>KMJ</td>\n    </tr>\n    <tr>\n      <th>1208</th>\n      <td>1/1/2019</td>\n      <td>24/3/2019</td>\n      <td>915</td>\n      <td>735</td>\n      <td>KMJ</td>\n      <td>1:40</td>\n      <td>HND</td>\n    </tr>\n    <tr>\n      <th>1209</th>\n      <td>21/10/2019</td>\n      <td>26/10/2019</td>\n      <td>1405</td>\n      <td>1215</td>\n      <td>HND</td>\n      <td>1:50</td>\n      <td>KMJ</td>\n    </tr>\n    <tr>\n      <th>1210</th>\n      <td>28/10/2019</td>\n      <td>31/12/2019</td>\n      <td>1120</td>\n      <td>945</td>\n      <td>KMJ</td>\n      <td>1:35</td>\n      <td>HND</td>\n    </tr>\n    <tr>\n      <th>...</th>\n      <td>...</td>\n      <td>...</td>\n      <td>...</td>\n      <td>...</td>\n      <td>...</td>\n      <td>...</td>\n      <td>...</td>\n    </tr>\n    <tr>\n      <th>186170</th>\n      <td>1/7/2019</td>\n      <td>7/7/2019</td>\n      <td>1655</td>\n      <td>1630</td>\n      <td>TRA</td>\n      <td>0:25</td>\n      <td>MMY</td>\n    </tr>\n    <tr>\n      <th>186171</th>\n      <td>13/7/2019</td>\n      <td>25/8/2019</td>\n      <td>1650</td>\n      <td>1625</td>\n      <td>TRA</td>\n      <td>0:25</td>\n      <td>MMY</td>\n    </tr>\n    <tr>\n      <th>186172</th>\n      <td>1/9/2019</td>\n      <td>29/9/2019</td>\n      <td>1655</td>\n      <td>1630</td>\n      <td>TRA</td>\n      <td>0:25</td>\n      <td>MMY</td>\n    </tr>\n    <tr>\n      <th>186173</th>\n      <td>1/10/2019</td>\n      <td>24/11/2019</td>\n      <td>1705</td>\n      <td>1640</td>\n      <td>TRA</td>\n      <td>0:25</td>\n      <td>MMY</td>\n    </tr>\n    <tr>\n      <th>186174</th>\n      <td>25/11/2019</td>\n      <td>31/12/2019</td>\n      <td>1705</td>\n      <td>1640</td>\n      <td>TRA</td>\n      <td>0:25</td>\n      <td>MMY</td>\n    </tr>\n  </tbody>\n</table>\n<p>79833 rows × 7 columns</p>\n</div>"
     },
     "metadata": {},
     "execution_count": 73
    }
   ],
   "source": [
    "timetable"
   ]
  },
  {
   "cell_type": "code",
   "execution_count": 86,
   "metadata": {},
   "outputs": [],
   "source": [
    "h, m = [int(i) for i in \"1:00\".split(\":\")]\n",
    "t1 = datetime.time(h,m)\n",
    "h, m = [int(i) for i in \"2:30\".split(\":\")]\n",
    "t2 = datetime.time(h,m)"
   ]
  },
  {
   "cell_type": "code",
   "execution_count": 107,
   "metadata": {},
   "outputs": [],
   "source": [
    "def str2time(string):\n",
    "    h, m = [int(i) for i in string.split(\":\")]\n",
    "    t = datetime.time(h,m)\n",
    "    return t\n",
    "\n",
    "def time_delta(tf, tt):\n",
    "    if type(tf) is str:\n",
    "        tf=str2time(tf)\n",
    "    if type(tt) is str:\n",
    "        tt=str2time(tt)\n",
    "    df = datetime.datetime.combine(datetime.date.today(), tf)\n",
    "    dt = datetime.datetime.combine(datetime.date.today(), tt)\n",
    "\n",
    "    if df > dt:\n",
    "        dt += datetime.timedelta(days=1)\n",
    "    \n",
    "    return dt-df"
   ]
  },
  {
   "cell_type": "code",
   "execution_count": 110,
   "metadata": {},
   "outputs": [
    {
     "output_type": "execute_result",
     "data": {
      "text/plain": [
       "datetime.timedelta(seconds=600)"
      ]
     },
     "metadata": {},
     "execution_count": 110
    }
   ],
   "source": [
    "time_delta(\"1:20\",\"1:30\")"
   ]
  },
  {
   "cell_type": "code",
   "execution_count": 112,
   "metadata": {},
   "outputs": [
    {
     "output_type": "error",
     "ename": "TypeError",
     "evalue": "unsupported operand type(s) for +: 'datetime.time' and 'datetime.timedelta'",
     "traceback": [
      "\u001b[0;31m---------------------------------------------------------------------------\u001b[0m",
      "\u001b[0;31mTypeError\u001b[0m                                 Traceback (most recent call last)",
      "\u001b[0;32m<ipython-input-112-3dd6fcfba13a>\u001b[0m in \u001b[0;36m<module>\u001b[0;34m\u001b[0m\n\u001b[0;32m----> 1\u001b[0;31m \u001b[0mt1\u001b[0m\u001b[0;34m+\u001b[0m\u001b[0mdatetime\u001b[0m\u001b[0;34m.\u001b[0m\u001b[0mtimedelta\u001b[0m\u001b[0;34m(\u001b[0m\u001b[0mminutes\u001b[0m\u001b[0;34m=\u001b[0m\u001b[0;36m10\u001b[0m\u001b[0;34m)\u001b[0m\u001b[0;34m\u001b[0m\u001b[0;34m\u001b[0m\u001b[0m\n\u001b[0m",
      "\u001b[0;31mTypeError\u001b[0m: unsupported operand type(s) for +: 'datetime.time' and 'datetime.timedelta'"
     ]
    }
   ],
   "source": [
    "t1+datetime.timedelta(minutes=10)"
   ]
  },
  {
   "cell_type": "code",
   "execution_count": null,
   "metadata": {},
   "outputs": [],
   "source": []
  }
 ]
}