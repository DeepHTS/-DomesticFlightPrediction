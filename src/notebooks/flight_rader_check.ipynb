{
 "metadata": {
  "language_info": {
   "codemirror_mode": {
    "name": "ipython",
    "version": 3
   },
   "file_extension": ".py",
   "mimetype": "text/x-python",
   "name": "python",
   "nbconvert_exporter": "python",
   "pygments_lexer": "ipython3",
   "version": "3.8.5-final"
  },
  "orig_nbformat": 2,
  "kernelspec": {
   "name": "python3",
   "display_name": "Python 3",
   "language": "python"
  }
 },
 "nbformat": 4,
 "nbformat_minor": 2,
 "cells": [
  {
   "cell_type": "code",
   "execution_count": 2,
   "metadata": {},
   "outputs": [],
   "source": [
    "import datetime\n",
    "import os\n",
    "import glob\n",
    "import tqdm\n",
    "import numpy as np\n",
    "import pandas as pd"
   ]
  },
  {
   "cell_type": "code",
   "execution_count": 3,
   "metadata": {},
   "outputs": [],
   "source": [
    "flights_path = \"/home/jo-kwsm/synology/horie/nict/data/flightradar24_processed/20190101-20191231_HND-OKA/preprocess/flights.csv\"\n",
    "default_spire_path = \"/home/jo-kwsm/synology/horie/nict/data/spire/*\"\n",
    "time_data_path = \"../../data/OAG.csv\"\n",
    "airport_path = \"data/airports.csv\""
   ]
  },
  {
   "cell_type": "code",
   "execution_count": 3,
   "metadata": {},
   "outputs": [
    {
     "output_type": "stream",
     "name": "stderr",
     "text": [
      "/home/jo-kwsm/.pyenv/versions/3.8.5/lib/python3.8/site-packages/IPython/core/interactiveshell.py:3146: DtypeWarning: Columns (22) have mixed types.Specify dtype option on import or set low_memory=False.\n  has_raised = await self.run_ast_nodes(code_ast.body, cell_name,\n"
     ]
    }
   ],
   "source": [
    "time_data = pd.read_csv(time_data_path)"
   ]
  },
  {
   "cell_type": "code",
   "execution_count": 6,
   "metadata": {},
   "outputs": [],
   "source": [
    "flights_sample_path = default_flights_path %(\"01\", \"0101\")\n",
    "flights_sample = pd.read_csv(flights_path)\n",
    "oag_sample_path = \"../../data/20190101_flights.csv\"\n",
    "oag_sample = pd.read_csv(oag_sample_path)"
   ]
  },
  {
   "cell_type": "code",
   "execution_count": 8,
   "metadata": {},
   "outputs": [
    {
     "output_type": "execute_result",
     "data": {
      "text/plain": [
       "flight_id      520668873\n",
       "aircraft_id      7459875\n",
       "reg                  NaN\n",
       "equip                NaN\n",
       "callsign             NaN\n",
       "flight               NaN\n",
       "schd_from            ICN\n",
       "schd_to              NaN\n",
       "real_to              NaN\n",
       "reserved             NaN\n",
       "Name: 0, dtype: object"
      ]
     },
     "metadata": {},
     "execution_count": 8
    }
   ],
   "source": [
    "oag_sample.iloc[0]"
   ]
  },
  {
   "cell_type": "code",
   "execution_count": 26,
   "metadata": {},
   "outputs": [
    {
     "output_type": "stream",
     "name": "stdout",
     "text": [
      "1777\n"
     ]
    }
   ],
   "source": [
    "print(len(data))"
   ]
  },
  {
   "cell_type": "code",
   "execution_count": 11,
   "metadata": {
    "tags": []
   },
   "outputs": [],
   "source": [
    "flights_data = pd.DataFrame()\n",
    "for month in range(1, 13):\n",
    "    for date in range(1,32):\n",
    "        month_str = str(month)\n",
    "        if len(month_str) == 1:\n",
    "            month_str = \"0\" + month_str\n",
    "        date_str = str(date)\n",
    "        if len(date_str) == 1:\n",
    "            date_str = \"0\" + date_str\n",
    "        date_str = month_str+date_str\n",
    "        flights_path = os.path.join(default_flights_path%(month_str, date_str))\n",
    "\n",
    "        if not os.path.exists(flights_path):\n",
    "            continue\n",
    "\n",
    "        date_data = pd.read_csv(flights_path)\n",
    "        # date_data = date_data[(date_data[\"schd_from\"] == \"HND\") | (date_data[\"schd_from\"] == \"OKA\")]\n",
    "        # date_data = date_data[(date_data[\"schd_to\"] == \"HND\") | (date_data[\"schd_to\"] == \"OKA\")]\n",
    "        date_data = date_data[date_data[\"schd_from\"] == \"HND\"]\n",
    "        date_data = date_data[date_data[\"schd_to\"] == \"OKA\"]\n",
    "        # print((date_data[\"schd_from\"] == \"OKA\").sum())\n",
    "        flights_data = flights_data.append(date_data)\n",
    "        if month == 0 and date == 0:\n",
    "            print(len(date_data[\"flight_id\"]))\n",
    "            print(date_data[\"equip\"].unique())\n",
    "            print(len(date_data[date_data[\"equip\"] == \"B773\"]))\n",
    "        # for flight_id in date_data[\"flight_id\"]:\n",
    "        #     print(flight_id)"
   ]
  },
  {
   "cell_type": "code",
   "execution_count": 4,
   "metadata": {},
   "outputs": [
    {
     "output_type": "stream",
     "name": "stdout",
     "text": [
      "11014\n"
     ]
    }
   ],
   "source": [
    "flights_data = pd.read_csv(flights_path)\n",
    "print(len(flights_data))"
   ]
  },
  {
   "cell_type": "code",
   "execution_count": 13,
   "metadata": {},
   "outputs": [],
   "source": [
    "flights_data.to_csv(\"../../data/flights.csv\")"
   ]
  },
  {
   "cell_type": "code",
   "execution_count": 5,
   "metadata": {
    "tags": []
   },
   "outputs": [
    {
     "output_type": "stream",
     "name": "stderr",
     "text": [
      "546it [53:07,  5.84s/it]\n"
     ]
    }
   ],
   "source": [
    "spire_data = pd.DataFrame()\n",
    "for i, path in tqdm.tqdm(enumerate(glob.glob(default_spire_path))):\n",
    "    spire_path = path\n",
    "    data = pd.read_csv(spire_path, low_memory=False)\n",
    "    # data = data[(data[\"origin_airport_icao\"] == \"ROAH\") | (data[\"origin_airport_icao\"] == \"RJTT\")]\n",
    "    # data = data[(data[\"destination_airport_icao\"] == \"ROAH\") | (data[\"destination_airport_icao\"] == \"RJTT\")]\n",
    "    data = data[data[\"origin_airport_icao\"] == \"RJTT\"]\n",
    "    data = data[data[\"destination_airport_icao\"] == \"ROAH\"]\n",
    "    spire_data = spire_data.append(data)\n",
    "    # if i < 0:\n",
    "    #     data = data[data[\"timestamp\"] < \"2019-01-02\"]\n",
    "    #     print(len(data))\n",
    "    #     print(data[\"icao_actype\"].unique())\n",
    "    #     # print(data[\"scheduled_departure_time_utc\"].unique())\n",
    "    #     # print(data[\"scheduled_arrival_time_utc\"].unique())\n",
    "    #     print(len(data[data[\"icao_actype\"] == \"B773\"][\"scheduled_departure_time_utc\"].unique()))\n",
    "    #     print(len(data[data[\"icao_actype\"] == \"B773\"][\"scheduled_arrival_time_utc\"].unique()))"
   ]
  },
  {
   "cell_type": "code",
   "execution_count": 6,
   "metadata": {},
   "outputs": [],
   "source": [
    "spire_data.drop_duplicates(subset=[\"icao_actype\", \"scheduled_departure_time_utc\"], inplace=True)\n",
    "spire_data.dropna(subset=[\"scheduled_departure_time_utc\", \"scheduled_arrival_time_utc\"], inplace=True)\n",
    "sched_departure_timestamp = []\n",
    "sched_arrival_timestamp = []\n",
    "for i in range(len(spire_data)):\n",
    "    try:\n",
    "        sched_departure_timestamp.append(datetime.datetime.strptime(spire_data.iloc[i][\"scheduled_departure_time_utc\"].replace(\"Z\", \"\"), \"%Y-%m-%dT%H:%M:%S\").timestamp())\n",
    "        sched_arrival_timestamp.append(datetime.datetime.strptime(spire_data.iloc[i][\"scheduled_arrival_time_utc\"].replace(\"Z\", \"\"), \"%Y-%m-%dT%H:%M:%S\").timestamp())\n",
    "    except:\n",
    "        sched_departure_timestamp.append(spire_data.iloc[i][\"scheduled_departure_time_utc\"])\n",
    "        sched_arrival_timestamp.append(spire_data.iloc[i][\"scheduled_arrival_time_utc\"])\n",
    "        print(i, spire_data.iloc[i][\"scheduled_departure_time_utc\"], spire_data.iloc[i][\"scheduled_arrival_time_utc\"])\n",
    "spire_data[\"scheduled_departure_timestamp\"] = pd.Series(sched_departure_timestamp)\n",
    "spire_data[\"scheduled_arrival_timestamp\"] = pd.Series(sched_arrival_timestamp)"
   ]
  },
  {
   "cell_type": "code",
   "execution_count": 51,
   "metadata": {},
   "outputs": [
    {
     "output_type": "stream",
     "name": "stdout",
     "text": [
      "6570\n11014\n"
     ]
    }
   ],
   "source": [
    "print(len(spire_data))\n",
    "print(len(flights_data))"
   ]
  },
  {
   "cell_type": "code",
   "execution_count": 57,
   "metadata": {},
   "outputs": [
    {
     "output_type": "stream",
     "name": "stdout",
     "text": [
      "1\n"
     ]
    }
   ],
   "source": [
    "flight = flights_data[flights_data[\"flight_id\"] == 593293511]\n",
    "print(len(flight))"
   ]
  },
  {
   "cell_type": "code",
   "execution_count": 5,
   "metadata": {},
   "outputs": [
    {
     "output_type": "stream",
     "name": "stdout",
     "text": [
      "read spire.\n"
     ]
    }
   ],
   "source": [
    "try:\n",
    "    spire_data.to_csv(\"../../data/spire.csv\")\n",
    "    print(\"save spire.\")\n",
    "except:\n",
    "    spire_data = pd.read_csv(\"../../data/spire.csv\")\n",
    "    print(\"read spire.\")"
   ]
  },
  {
   "cell_type": "code",
   "execution_count": 6,
   "metadata": {},
   "outputs": [],
   "source": [
    "def spire_and_flightradar(candidate):\n",
    "    candidate_list = []\n",
    "    default_position_path = \"/home/jo-kwsm/synology/horie/nict/data/flightradar24_processed/20190101-20191231_HND-OKA/spline/positions\"\n",
    "    for flight_csv_path in tqdm.tqdm(candidate):\n",
    "        flight_csv_path = flight_csv_path[:-1]\n",
    "        flight_id = int(flight_csv_path.split(\".\")[0])\n",
    "        position_path = os.path.join(default_position_path, flight_csv_path)\n",
    "        positions = pd.read_csv(position_path)\n",
    "        dep_timestamp = positions.iloc[0][\"snapshot_id\"]\n",
    "        arr_timestamp = positions.iloc[-1][\"snapshot_id\"]\n",
    "        flight = flights_data[flights_data[\"flight_id\"] == flight_id]\n",
    "\n",
    "        if len(flight) < 1:\n",
    "            print(\"There isn't %s in flight data.\" % flight_id, type(flight_id))\n",
    "            continue\n",
    "\n",
    "        icao_code = flight.iloc[0][\"equip\"]\n",
    "        timetables = spire_data[spire_data[\"icao_actype\"] == icao_code]\n",
    "\n",
    "        for i in range(len(timetables)):\n",
    "            timetable = timetables.iloc[i]\n",
    "            sch_from = timetable[\"scheduled_departure_timestamp\"]\n",
    "            sch_to = timetable[\"scheduled_arrival_timestamp\"]\n",
    "\n",
    "            if sch_from - 3600 * 2 < dep_timestamp and arr_timestamp < sch_to + 3600 * 2:\n",
    "                candidate_list.append(flight_csv_path)\n",
    "                break\n",
    "    return candidate_list"
   ]
  },
  {
   "cell_type": "code",
   "execution_count": 7,
   "metadata": {},
   "outputs": [
    {
     "output_type": "stream",
     "name": "stdout",
     "text": [
      "<class 'numpy.int64'>\n   flight_id  aircraft_id     reg equip callsign flight schd_from schd_to  \\\n0  520767396      8816572  JA75AN  B738   ANA461  NH461       HND     OKA   \n1  520768036      8723556  JA345J  B738   JAL991  JL991       HND     OKA   \n2  520769002      8814651  JA737R   738   SKY511  BC511       HND     OKA   \n3  520770574      8811922  JA708A  B772   ANA993  NH993       HND     OKA   \n4  520771366      8651003  JA007D  B772      NaN  JL901       HND     OKA   \n\n  real_to  reserved  departure_day  Arrival_day  \n0     OKA       NaN       20190101     20190101  \n1     OKA       NaN       20190101     20190101  \n2     OKA       NaN       20190101     20190101  \n3     OKA       NaN       20190101     20190101  \n4     OKA       NaN       20190101     20190101  \n"
     ]
    }
   ],
   "source": [
    "print(type(flights_data.iloc[0][\"flight_id\"]))\n",
    "print(flights_data.head())"
   ]
  },
  {
   "cell_type": "code",
   "execution_count": 8,
   "metadata": {
    "tags": []
   },
   "outputs": [
    {
     "output_type": "stream",
     "name": "stderr",
     "text": [
      "100%|██████████| 8876/8876 [23:47<00:00,  6.22it/s]\n"
     ]
    }
   ],
   "source": [
    "test_path = \"/home/jo-kwsm/synology/horie/nict/data/flightradar24_processed/20190101-20191231_HND-OKA/spline/test.txt\"\n",
    "train_path = \"/home/jo-kwsm/synology/horie/nict/data/flightradar24_processed/20190101-20191231_HND-OKA/spline/train.txt\"\n",
    "val_path = \"/home/jo-kwsm/synology/horie/nict/data/flightradar24_processed/20190101-20191231_HND-OKA/spline/val.txt\"\n",
    "data_candidate = []\n",
    "with open(test_path, \"r\") as f:\n",
    "    candidate = f.readlines()\n",
    "    for c in candidate:\n",
    "        data_candidate.append(c)\n",
    "with open(train_path, \"r\") as f:\n",
    "    candidate = f.readlines()\n",
    "    for c in candidate:\n",
    "        data_candidate.append(c)\n",
    "with open(val_path, \"r\") as f:\n",
    "    candidate = f.readlines()\n",
    "    for c in candidate:\n",
    "        data_candidate.append(c)\n",
    "\n",
    "test_candidate_list = spire_and_flightradar(data_candidate)"
   ]
  },
  {
   "cell_type": "code",
   "execution_count": 9,
   "metadata": {},
   "outputs": [
    {
     "output_type": "stream",
     "name": "stdout",
     "text": [
      "8876\n2782\n"
     ]
    }
   ],
   "source": [
    "print(len(data_candidate))\n",
    "print(len(test_candidate_list))"
   ]
  },
  {
   "cell_type": "code",
   "execution_count": 16,
   "metadata": {},
   "outputs": [],
   "source": [
    "new_test_path = \"/home/jo-kwsm/synology/horie/nict/data/flightradar24_processed/20190101-20191231_HND-OKA/spline/new_test.txt\"\n",
    "new_train_path = \"/home/jo-kwsm/synology/horie/nict/data/flightradar24_processed/20190101-20191231_HND-OKA/spline/new_train.txt\"\n",
    "new_val_path = \"/home/jo-kwsm/synology/horie/nict/data/flightradar24_processed/20190101-20191231_HND-OKA/spline/new_val.txt\"\n",
    "with open(new_test_path, \"w\") as f:\n",
    "    f.write(\"\\n\".join(test_candidate_list[:1000]))\n",
    "    f.write(\"\\n\")\n",
    "with open(new_val_path, \"w\") as f:\n",
    "    f.write(\"\\n\".join(test_candidate_list[1000:2000]))\n",
    "    f.write(\"\\n\")\n",
    "with open(new_train_path, \"w\") as f:\n",
    "    f.write(\"\\n\".join(test_candidate_list[2000:]))\n",
    "    f.write(\"\\n\")\n",
    "    for d in data_candidate:\n",
    "        if not d in test_candidate_list:\n",
    "            f.write(d)"
   ]
  },
  {
   "cell_type": "code",
   "execution_count": 14,
   "metadata": {
    "tags": []
   },
   "outputs": [
    {
     "output_type": "stream",
     "name": "stderr",
     "text": [
      "100%|██████████| 1000/1000 [00:00<00:00, 1650001.57it/s]\n",
      "100%|██████████| 9658/9658 [00:00<00:00, 1022324.55it/s]\n",
      "100%|██████████| 1000/1000 [00:00<00:00, 2924898.19it/s]18534\n",
      "9658\n",
      "train out\n",
      "train 783 out\n",
      "train 784 out\n",
      "train 785 out\n",
      "train 786 out\n",
      "train 787 out\n",
      "train 788 out\n",
      "train 789 out\n",
      "train 790 out\n",
      "train 791 out\n",
      "train 792 out\n",
      "train 793 out\n",
      "train 794 out\n",
      "train 795 out\n",
      "train 796 out\n",
      "train 797 out\n",
      "train 798 out\n",
      "train 799 out\n",
      "\n"
     ]
    }
   ],
   "source": [
    "new_test_path = \"/home/jo-kwsm/synology/horie/nict/data/flightradar24_processed/20190101-20191231_HND-OKA/spline/new_test.txt\"\n",
    "new_train_path = \"/home/jo-kwsm/synology/horie/nict/data/flightradar24_processed/20190101-20191231_HND-OKA/spline/new_train.txt\"\n",
    "new_val_path = \"/home/jo-kwsm/synology/horie/nict/data/flightradar24_processed/20190101-20191231_HND-OKA/spline/new_val.txt\"\n",
    "\n",
    "with open(new_test_path, \"r\") as f:\n",
    "    with open(new_test2_path, \"r\") as nf:\n",
    "        c = f.readlines()\n",
    "        nc = nf.readlines()\n",
    "        if not len(c) == len(nc):\n",
    "            print(\"test out\")\n",
    "        for i in tqdm.tqdm(range(len(c))):\n",
    "            if not c[i] == nc[i]:\n",
    "                print(\"test\", i, \"out\")\n",
    "with open(new_train_path, \"r\") as f:\n",
    "    with open(new_train2_path, \"r\") as nf:\n",
    "        c = f.readlines()\n",
    "        nc = nf.readlines()\n",
    "        print(len(c))\n",
    "        print(len(nc))\n",
    "        if not len(c) == len(nc):\n",
    "            print(\"train out\")\n",
    "        for i in tqdm.tqdm(range(len(nc))):\n",
    "            if not c[i] == nc[i] and i < 800:\n",
    "                print(\"train\", i, \"out\")\n",
    "with open(new_val_path, \"r\") as f:\n",
    "    with open(new_val2_path, \"r\") as nf:\n",
    "        c = f.readlines()\n",
    "        nc = nf.readlines()\n",
    "        if not len(c) == len(nc):\n",
    "            print(\"val out\")\n",
    "        for i in tqdm.tqdm(range(len(c))):\n",
    "            if not c[i] == nc[i]:\n",
    "                print(\"val\", i, \"out\")"
   ]
  },
  {
   "cell_type": "code",
   "execution_count": 12,
   "metadata": {},
   "outputs": [],
   "source": [
    "airport_path = \"../../data/airports.csv\"\n",
    "airport_info = pd.read_csv(airport_path)\n",
    "oka = airport_info[airport_info[\"iata_code\"] == \"OKA\"]\n",
    "hnd = airport_info[airport_info[\"iata_code\"] == \"HND\"]\n",
    "airport2point = {\n",
    "    \"OKA\": (oka.iloc[0][\"latitude_deg\"], oka.iloc[0][\"longitude_deg\"]),\n",
    "    \"HND\": (hnd.iloc[0][\"latitude_deg\"], hnd.iloc[0][\"longitude_deg\"]),\n",
    "}"
   ]
  },
  {
   "cell_type": "code",
   "execution_count": 20,
   "metadata": {},
   "outputs": [],
   "source": [
    "def divide(dep_point, arr_point, dep_datetime, arr_datetime, judge_datetime):\n",
    "        \"\"\"\n",
    "        内分計算によって座標を求める。\n",
    "\n",
    "        Args:\n",
    "            dep_point(float):出発地点(deg)\n",
    "            arr_point(float):到着地点(deg)\n",
    "            dep_datetime(datetime):出発時刻\n",
    "            arr_datetime(datetime):到着時刻\n",
    "            judge_datetime(datetime):位置を知りたい時刻\n",
    "        Returns:\n",
    "            point(float):judge_datetimeにおける地点\n",
    "        \"\"\"\n",
    "\n",
    "        point = ((arr_datetime - judge_datetime) * dep_point \\\n",
    "                + (judge_datetime - dep_datetime) * arr_point) \\\n",
    "                / (arr_datetime - dep_datetime)\n",
    "        # print(\n",
    "        #     (arr_datetime - judge_datetime),\n",
    "        #     (judge_datetime - dep_datetime),\n",
    "        #     (arr_datetime - dep_datetime),\n",
    "        # )\n",
    "        return point\n",
    "\n",
    "def estimate_position(sch_from, sch_to, judge_datetime):\n",
    "    dep_airport = \"HND\"\n",
    "    arr_airport = \"OKA\"\n",
    "    dep_point = airport2point[dep_airport]\n",
    "    arr_point = airport2point[arr_airport]\n",
    "    # if arr_airport != \"OKA\":\n",
    "    #     print(arr_airport)\n",
    "    point = (\n",
    "        divide(\n",
    "            dep_point[0],\n",
    "            arr_point[0],\n",
    "            sch_from,\n",
    "            sch_to,\n",
    "            judge_datetime,\n",
    "        ),\n",
    "        divide(\n",
    "            dep_point[1],\n",
    "            arr_point[1],\n",
    "            sch_from,\n",
    "            sch_to,\n",
    "            judge_datetime,\n",
    "        ),\n",
    "    )\n",
    "    return point"
   ]
  },
  {
   "cell_type": "code",
   "execution_count": 23,
   "metadata": {
    "tags": []
   },
   "outputs": [
    {
     "output_type": "stream",
     "name": "stderr",
     "text": [
      "100%|██████████| 1000/1000 [02:19<00:00,  7.19it/s]\n"
     ]
    }
   ],
   "source": [
    "default_position_path = \"/home/jo-kwsm/synology/horie/nict/data/flightradar24_processed/20190101-20191231_HND-OKA/spline/positions\"\n",
    "result = {\n",
    "    \"snapshot_id\": [],\n",
    "    \"flight_id\": [],\n",
    "    \"Predicted_lat\": [],\n",
    "    \"Predicted_lon\": [],\n",
    "}\n",
    "with open(new_test_path, \"r\") as f:\n",
    "    test_data = f.readlines()\n",
    "    for flight_csv_path in tqdm.tqdm(test_data):\n",
    "        flight_csv_path = flight_csv_path[:-1]\n",
    "        flight_id = int(flight_csv_path.split(\".\")[0])\n",
    "        test_position_path = os.path.join(default_position_path, flight_csv_path)\n",
    "        test_positions = pd.read_csv(test_position_path)\n",
    "        dep_timestamp = test_positions.iloc[0][\"snapshot_id\"]\n",
    "        arr_timestamp = test_positions.iloc[-1][\"snapshot_id\"]\n",
    "        flight = flights_data[flights_data[\"flight_id\"] == flight_id]\n",
    "\n",
    "        if len(flight) < 1:\n",
    "            print(\"There isn't %s in flight data.\" % flight_id, type(flight_id))\n",
    "            continue\n",
    "\n",
    "        icao_code = flight.iloc[0][\"equip\"]\n",
    "        timetables = spire_data[spire_data[\"icao_actype\"] == icao_code]\n",
    "\n",
    "        for i in range(len(timetables)):\n",
    "            timetable = timetables.iloc[i]\n",
    "            sch_from = timetable[\"scheduled_departure_timestamp\"]\n",
    "            sch_to = timetable[\"scheduled_arrival_timestamp\"]\n",
    "\n",
    "            if sch_from - 3600 * 2 < dep_timestamp and arr_timestamp < sch_to + 3600 * 2:\n",
    "                break\n",
    "\n",
    "        for i in range(len(test_positions)):\n",
    "            test_position = test_positions.iloc[i]\n",
    "            test_timestamp = test_position[\"snapshot_id\"]\n",
    "            if not test_timestamp % (60*5) == 0:\n",
    "                continue\n",
    "            lat = np.nan\n",
    "            lon = np.nan\n",
    "            if sch_from < test_timestamp and test_timestamp < sch_to:\n",
    "                lat, lon = estimate_position(sch_from, sch_to, test_timestamp)\n",
    "            if test_timestamp <= sch_from:\n",
    "                lat = airport2point[\"HND\"][0]\n",
    "                lon = airport2point[\"HND\"][1]\n",
    "            if  sch_to <= test_timestamp:\n",
    "                lat = airport2point[\"OKA\"][0]\n",
    "                lon = airport2point[\"OKA\"][1]\n",
    "            result[\"snapshot_id\"].append(test_position[\"snapshot_id\"])\n",
    "            result[\"flight_id\"].append(flight_id)\n",
    "            result[\"Predicted_lat\"].append(lat)\n",
    "            result[\"Predicted_lon\"].append(lon)\n",
    "            \n"
   ]
  },
  {
   "cell_type": "code",
   "execution_count": 105,
   "metadata": {},
   "outputs": [
    {
     "output_type": "execute_result",
     "data": {
      "text/plain": [
       "            latitude      longitude  altitude_baro          speed  \\\n",
       "count  436259.000000  436259.000000  414111.000000  414695.000000   \n",
       "mean       31.394873     133.914153   22610.899010     308.565917   \n",
       "std         3.909396       4.930762   12429.259803     105.698614   \n",
       "min        25.516296     126.921563    -450.000000       0.000000   \n",
       "25%        26.926466     128.117118   11050.000000     260.000000   \n",
       "50%        33.613509     136.329746   26000.000000     340.000000   \n",
       "75%        35.007888     138.353435   32875.000000     380.000000   \n",
       "max        35.742203     140.318356   63800.000000     600.000000   \n",
       "\n",
       "             heading  vertical_rate    squawk_code  \n",
       "count  435616.000000  374451.000000  162349.000000  \n",
       "mean      222.064238      18.057551    3051.407419  \n",
       "std        49.379570    1359.557707    1727.099982  \n",
       "min         0.000000   -6590.000000     401.000000  \n",
       "25%       210.000000    -700.000000    2072.000000  \n",
       "50%       220.000000       0.000000    2376.000000  \n",
       "75%       250.000000      60.000000    4601.000000  \n",
       "max       360.000000    8000.000000    7377.000000  "
      ],
      "text/html": "<div>\n<style scoped>\n    .dataframe tbody tr th:only-of-type {\n        vertical-align: middle;\n    }\n\n    .dataframe tbody tr th {\n        vertical-align: top;\n    }\n\n    .dataframe thead th {\n        text-align: right;\n    }\n</style>\n<table border=\"1\" class=\"dataframe\">\n  <thead>\n    <tr style=\"text-align: right;\">\n      <th></th>\n      <th>latitude</th>\n      <th>longitude</th>\n      <th>altitude_baro</th>\n      <th>speed</th>\n      <th>heading</th>\n      <th>vertical_rate</th>\n      <th>squawk_code</th>\n    </tr>\n  </thead>\n  <tbody>\n    <tr>\n      <th>count</th>\n      <td>436259.000000</td>\n      <td>436259.000000</td>\n      <td>414111.000000</td>\n      <td>414695.000000</td>\n      <td>435616.000000</td>\n      <td>374451.000000</td>\n      <td>162349.000000</td>\n    </tr>\n    <tr>\n      <th>mean</th>\n      <td>31.394873</td>\n      <td>133.914153</td>\n      <td>22610.899010</td>\n      <td>308.565917</td>\n      <td>222.064238</td>\n      <td>18.057551</td>\n      <td>3051.407419</td>\n    </tr>\n    <tr>\n      <th>std</th>\n      <td>3.909396</td>\n      <td>4.930762</td>\n      <td>12429.259803</td>\n      <td>105.698614</td>\n      <td>49.379570</td>\n      <td>1359.557707</td>\n      <td>1727.099982</td>\n    </tr>\n    <tr>\n      <th>min</th>\n      <td>25.516296</td>\n      <td>126.921563</td>\n      <td>-450.000000</td>\n      <td>0.000000</td>\n      <td>0.000000</td>\n      <td>-6590.000000</td>\n      <td>401.000000</td>\n    </tr>\n    <tr>\n      <th>25%</th>\n      <td>26.926466</td>\n      <td>128.117118</td>\n      <td>11050.000000</td>\n      <td>260.000000</td>\n      <td>210.000000</td>\n      <td>-700.000000</td>\n      <td>2072.000000</td>\n    </tr>\n    <tr>\n      <th>50%</th>\n      <td>33.613509</td>\n      <td>136.329746</td>\n      <td>26000.000000</td>\n      <td>340.000000</td>\n      <td>220.000000</td>\n      <td>0.000000</td>\n      <td>2376.000000</td>\n    </tr>\n    <tr>\n      <th>75%</th>\n      <td>35.007888</td>\n      <td>138.353435</td>\n      <td>32875.000000</td>\n      <td>380.000000</td>\n      <td>250.000000</td>\n      <td>60.000000</td>\n      <td>4601.000000</td>\n    </tr>\n    <tr>\n      <th>max</th>\n      <td>35.742203</td>\n      <td>140.318356</td>\n      <td>63800.000000</td>\n      <td>600.000000</td>\n      <td>360.000000</td>\n      <td>8000.000000</td>\n      <td>7377.000000</td>\n    </tr>\n  </tbody>\n</table>\n</div>"
     },
     "metadata": {},
     "execution_count": 105
    }
   ],
   "source": [
    "spire_data."
   ]
  },
  {
   "cell_type": "code",
   "execution_count": 24,
   "metadata": {},
   "outputs": [],
   "source": [
    "result_path = \"../../data/timetable_result.csv\"\n",
    "result_df = pd.DataFrame(result, columns=[\"snapshot_id\", \"flight_id\", \"Predicted_lat\", \"Predicted_lon\"])\n",
    "result_df.to_csv(result_path, index=None)"
   ]
  },
  {
   "cell_type": "code",
   "execution_count": null,
   "metadata": {},
   "outputs": [],
   "source": [
    "# spireに存在してflightradarに存在しないものの調査\n",
    "# 発着時刻より遅い場合、早い場合は空港を出力とした。"
   ]
  }
 ]
}